{
  "nbformat": 4,
  "nbformat_minor": 0,
  "metadata": {
    "colab": {
      "name": "ME781_Insurance.ipynb",
      "provenance": [],
      "collapsed_sections": []
    },
    "kernelspec": {
      "name": "python3",
      "display_name": "Python 3"
    },
    "language_info": {
      "name": "python"
    }
  },
  "cells": [
    {
      "cell_type": "code",
      "metadata": {
        "colab": {
          "base_uri": "https://localhost:8080/"
        },
        "id": "RGie1QD2k9Kh",
        "outputId": "fef6582f-5eaa-4e51-fef5-38b2ca3da36c"
      },
      "source": [
        "#mounting the google drive\n",
        "from google.colab import drive\n",
        "drive.mount('/content/drive')"
      ],
      "execution_count": null,
      "outputs": [
        {
          "output_type": "stream",
          "name": "stdout",
          "text": [
            "Drive already mounted at /content/drive; to attempt to forcibly remount, call drive.mount(\"/content/drive\", force_remount=True).\n"
          ]
        }
      ]
    },
    {
      "cell_type": "code",
      "metadata": {
        "id": "kJNsUlkvlWn-"
      },
      "source": [
        "#importing various python libraries\n",
        "import pandas as pd\n",
        "import matplotlib.pyplot as plt\n",
        "import seaborn as sns\n",
        "import numpy as np\n",
        "from matplotlib.pyplot import figure\n",
        "from pylab import rcParams\n",
        "from matplotlib.patches import Patch #importing required library for plotting visualizations\n",
        "from matplotlib.lines import Line2D\n",
        "import warnings\n",
        "warnings.filterwarnings(\"ignore\")"
      ],
      "execution_count": null,
      "outputs": []
    },
    {
      "cell_type": "code",
      "metadata": {
        "id": "0pONv83RlsbV"
      },
      "source": [
        "#loading the dataset into dataframe\n",
        "df = pd.read_csv('/content/drive/MyDrive/ME781_Dataset_Insurance/train.csv')"
      ],
      "execution_count": null,
      "outputs": []
    },
    {
      "cell_type": "markdown",
      "metadata": {
        "id": "-rG-dil0noEz"
      },
      "source": [
        "##Exploratory Data Analysis (EDA)\n",
        "Before we begin with creation of the model and prediction, it becomes useful to explore the data we are working with, the data scales of the features, visualize any trends that may be present between a variable and the output to be predicted, etc. to choose the most suitable model for our purpose. We will explore the training dataset accordingly."
      ]
    },
    {
      "cell_type": "code",
      "metadata": {
        "colab": {
          "base_uri": "https://localhost:8080/",
          "height": 204
        },
        "id": "j1jwLKUWmSnY",
        "outputId": "f1f7648f-688a-4444-9908-d61c3efcd743"
      },
      "source": [
        "df.head() #displaying the first 5 entries of dataframe"
      ],
      "execution_count": null,
      "outputs": [
        {
          "output_type": "execute_result",
          "data": {
            "text/html": [
              "<div>\n",
              "<style scoped>\n",
              "    .dataframe tbody tr th:only-of-type {\n",
              "        vertical-align: middle;\n",
              "    }\n",
              "\n",
              "    .dataframe tbody tr th {\n",
              "        vertical-align: top;\n",
              "    }\n",
              "\n",
              "    .dataframe thead th {\n",
              "        text-align: right;\n",
              "    }\n",
              "</style>\n",
              "<table border=\"1\" class=\"dataframe\">\n",
              "  <thead>\n",
              "    <tr style=\"text-align: right;\">\n",
              "      <th></th>\n",
              "      <th>id</th>\n",
              "      <th>Gender</th>\n",
              "      <th>Age</th>\n",
              "      <th>Driving_License</th>\n",
              "      <th>Region_Code</th>\n",
              "      <th>Previously_Insured</th>\n",
              "      <th>Vehicle_Age</th>\n",
              "      <th>Vehicle_Damage</th>\n",
              "      <th>Annual_Premium</th>\n",
              "      <th>Policy_Sales_Channel</th>\n",
              "      <th>Vintage</th>\n",
              "      <th>Response</th>\n",
              "    </tr>\n",
              "  </thead>\n",
              "  <tbody>\n",
              "    <tr>\n",
              "      <th>0</th>\n",
              "      <td>1</td>\n",
              "      <td>Male</td>\n",
              "      <td>44</td>\n",
              "      <td>1</td>\n",
              "      <td>28.0</td>\n",
              "      <td>0</td>\n",
              "      <td>&gt; 2 Years</td>\n",
              "      <td>Yes</td>\n",
              "      <td>40454.0</td>\n",
              "      <td>26.0</td>\n",
              "      <td>217</td>\n",
              "      <td>1</td>\n",
              "    </tr>\n",
              "    <tr>\n",
              "      <th>1</th>\n",
              "      <td>2</td>\n",
              "      <td>Male</td>\n",
              "      <td>76</td>\n",
              "      <td>1</td>\n",
              "      <td>3.0</td>\n",
              "      <td>0</td>\n",
              "      <td>1-2 Year</td>\n",
              "      <td>No</td>\n",
              "      <td>33536.0</td>\n",
              "      <td>26.0</td>\n",
              "      <td>183</td>\n",
              "      <td>0</td>\n",
              "    </tr>\n",
              "    <tr>\n",
              "      <th>2</th>\n",
              "      <td>3</td>\n",
              "      <td>Male</td>\n",
              "      <td>47</td>\n",
              "      <td>1</td>\n",
              "      <td>28.0</td>\n",
              "      <td>0</td>\n",
              "      <td>&gt; 2 Years</td>\n",
              "      <td>Yes</td>\n",
              "      <td>38294.0</td>\n",
              "      <td>26.0</td>\n",
              "      <td>27</td>\n",
              "      <td>1</td>\n",
              "    </tr>\n",
              "    <tr>\n",
              "      <th>3</th>\n",
              "      <td>4</td>\n",
              "      <td>Male</td>\n",
              "      <td>21</td>\n",
              "      <td>1</td>\n",
              "      <td>11.0</td>\n",
              "      <td>1</td>\n",
              "      <td>&lt; 1 Year</td>\n",
              "      <td>No</td>\n",
              "      <td>28619.0</td>\n",
              "      <td>152.0</td>\n",
              "      <td>203</td>\n",
              "      <td>0</td>\n",
              "    </tr>\n",
              "    <tr>\n",
              "      <th>4</th>\n",
              "      <td>5</td>\n",
              "      <td>Female</td>\n",
              "      <td>29</td>\n",
              "      <td>1</td>\n",
              "      <td>41.0</td>\n",
              "      <td>1</td>\n",
              "      <td>&lt; 1 Year</td>\n",
              "      <td>No</td>\n",
              "      <td>27496.0</td>\n",
              "      <td>152.0</td>\n",
              "      <td>39</td>\n",
              "      <td>0</td>\n",
              "    </tr>\n",
              "  </tbody>\n",
              "</table>\n",
              "</div>"
            ],
            "text/plain": [
              "   id  Gender  Age  ...  Policy_Sales_Channel  Vintage  Response\n",
              "0   1    Male   44  ...                  26.0      217         1\n",
              "1   2    Male   76  ...                  26.0      183         0\n",
              "2   3    Male   47  ...                  26.0       27         1\n",
              "3   4    Male   21  ...                 152.0      203         0\n",
              "4   5  Female   29  ...                 152.0       39         0\n",
              "\n",
              "[5 rows x 12 columns]"
            ]
          },
          "metadata": {},
          "execution_count": 41
        }
      ]
    },
    {
      "cell_type": "code",
      "metadata": {
        "colab": {
          "base_uri": "https://localhost:8080/"
        },
        "id": "pjvCzVfgoSI5",
        "outputId": "85d887fc-77de-46fd-e0be-91eb61e6ce03"
      },
      "source": [
        "print('Dataframe number of records in dataset= '+str(df.shape[0]))\n",
        "print('Dataframe number of variables (including the class) = '+str(df.shape[1]))"
      ],
      "execution_count": null,
      "outputs": [
        {
          "output_type": "stream",
          "name": "stdout",
          "text": [
            "Dataframe number of records in dataset= 381109\n",
            "Dataframe number of variables (including the class) = 12\n"
          ]
        }
      ]
    },
    {
      "cell_type": "markdown",
      "metadata": {
        "id": "ovKNIdM7pQWA"
      },
      "source": [
        "We observe from above that our training dataset is large in size, and so we can also utilize a part of this (by splitting it) for cross validation and hyperparameter tuning as well as for testing to assess our accuracy. "
      ]
    },
    {
      "cell_type": "code",
      "metadata": {
        "colab": {
          "base_uri": "https://localhost:8080/"
        },
        "id": "tKiQJfCgr053",
        "outputId": "81e5872b-a7e6-451d-f461-18dde07f92e9"
      },
      "source": [
        "df.dtypes #outputs the datatype of the variables"
      ],
      "execution_count": null,
      "outputs": [
        {
          "output_type": "execute_result",
          "data": {
            "text/plain": [
              "id                        int64\n",
              "Gender                   object\n",
              "Age                       int64\n",
              "Driving_License           int64\n",
              "Region_Code             float64\n",
              "Previously_Insured        int64\n",
              "Vehicle_Age              object\n",
              "Vehicle_Damage           object\n",
              "Annual_Premium          float64\n",
              "Policy_Sales_Channel    float64\n",
              "Vintage                   int64\n",
              "Response                  int64\n",
              "dtype: object"
            ]
          },
          "metadata": {},
          "execution_count": 43
        }
      ]
    },
    {
      "cell_type": "code",
      "metadata": {
        "colab": {
          "base_uri": "https://localhost:8080/"
        },
        "id": "AlDhhgeXr676",
        "outputId": "a0028c5b-a07c-47c1-ff5a-290c37eaeba7"
      },
      "source": [
        "for column in df.columns.values: #outputting the number of unique values for each column of the dataset\n",
        "  listofunique= pd.unique(df[column])\n",
        "  print(column+ ' has ' + str(len(listofunique))+ ' unique values ')"
      ],
      "execution_count": null,
      "outputs": [
        {
          "output_type": "stream",
          "name": "stdout",
          "text": [
            "id has 381109 unique values \n",
            "Gender has 2 unique values \n",
            "Age has 66 unique values \n",
            "Driving_License has 2 unique values \n",
            "Region_Code has 53 unique values \n",
            "Previously_Insured has 2 unique values \n",
            "Vehicle_Age has 3 unique values \n",
            "Vehicle_Damage has 2 unique values \n",
            "Annual_Premium has 48838 unique values \n",
            "Policy_Sales_Channel has 155 unique values \n",
            "Vintage has 290 unique values \n",
            "Response has 2 unique values \n"
          ]
        }
      ]
    },
    {
      "cell_type": "markdown",
      "metadata": {
        "id": "zPEP8gw9cTh1"
      },
      "source": [
        "This helps us understand which variables are categorical or numerical, and which ones are distinct for each customer (eg. id) which may not help in building our model which is a generalized construct."
      ]
    },
    {
      "cell_type": "code",
      "metadata": {
        "colab": {
          "base_uri": "https://localhost:8080/"
        },
        "id": "uThSU3lXsFEl",
        "outputId": "0925424e-0952-4971-9432-eba1fba440e4"
      },
      "source": [
        "for column in df.columns.values: #outputting the number of null values for each column of the dataset\n",
        "  print(column+ ' has ' + str(df[column].isna().sum()) + ' null values ')"
      ],
      "execution_count": null,
      "outputs": [
        {
          "output_type": "stream",
          "name": "stdout",
          "text": [
            "id has 0 null values \n",
            "Gender has 0 null values \n",
            "Age has 0 null values \n",
            "Driving_License has 0 null values \n",
            "Region_Code has 0 null values \n",
            "Previously_Insured has 0 null values \n",
            "Vehicle_Age has 0 null values \n",
            "Vehicle_Damage has 0 null values \n",
            "Annual_Premium has 0 null values \n",
            "Policy_Sales_Channel has 0 null values \n",
            "Vintage has 0 null values \n",
            "Response has 0 null values \n"
          ]
        }
      ]
    },
    {
      "cell_type": "markdown",
      "metadata": {
        "id": "vxL8Tco6cO4J"
      },
      "source": [
        "No null values present in our dataset to be taken care of."
      ]
    },
    {
      "cell_type": "code",
      "metadata": {
        "colab": {
          "base_uri": "https://localhost:8080/",
          "height": 1000
        },
        "id": "NYnTTbFAsRvI",
        "outputId": "518b43ea-174b-49f8-97d7-cd76761dccad"
      },
      "source": [
        "#plotting histograms of all the columns\n",
        "df2=df.drop(columns=['id']) #dropping columns which have no sense in plotting a histogram for\n",
        "for col in df2.columns.values:\n",
        " print('The histogram for '+col+' is: ')\n",
        " plt.hist(df2[col], bins=30)\n",
        " plt.title('Histogram for '+col)\n",
        " print()\n",
        " plt.xlabel(col)\n",
        " plt.ylabel('Frequency')\n",
        " rcParams['figure.figsize'] = 10, 5\n",
        " plt.show();"
      ],
      "execution_count": null,
      "outputs": [
        {
          "output_type": "stream",
          "name": "stdout",
          "text": [
            "The histogram for Gender is: \n",
            "\n"
          ]
        },
        {
          "output_type": "display_data",
          "data": {
            "image/png": "[encoded data removed]",
            "text/plain": [
              "<Figure size 432x288 with 1 Axes>"
            ]
          },
          "metadata": {
            "needs_background": "light"
          }
        },
        {
          "output_type": "stream",
          "name": "stdout",
          "text": [
            "The histogram for Age is: \n",
            "\n"
          ]
        },
        {
          "output_type": "display_data",
          "data": {
            "image/png": "[encoded data removed]",
            "text/plain": [
              "<Figure size 720x360 with 1 Axes>"
            ]
          },
          "metadata": {
            "needs_background": "light"
          }
        },
        {
          "output_type": "stream",
          "name": "stdout",
          "text": [
            "The histogram for Driving_License is: \n",
            "\n"
          ]
        },
        {
          "output_type": "display_data",
          "data": {
            "image/png": "[encoded data removed]",
            "text/plain": [
              "<Figure size 720x360 with 1 Axes>"
            ]
          },
          "metadata": {
            "needs_background": "light"
          }
        },
        {
          "output_type": "stream",
          "name": "stdout",
          "text": [
            "The histogram for Region_Code is: \n",
            "\n"
          ]
        },
        {
          "output_type": "display_data",
          "data": {
            "image/png": "[encoded data removed]",
            "text/plain": [
              "<Figure size 720x360 with 1 Axes>"
            ]
          },
          "metadata": {
            "needs_background": "light"
          }
        },
        {
          "output_type": "stream",
          "name": "stdout",
          "text": [
            "The histogram for Previously_Insured is: \n",
            "\n"
          ]
        },
        {
          "output_type": "display_data",
          "data": {
            "image/png": "[encoded data removed]",
            "text/plain": [
              "<Figure size 720x360 with 1 Axes>"
            ]
          },
          "metadata": {
            "needs_background": "light"
          }
        },
        {
          "output_type": "stream",
          "name": "stdout",
          "text": [
            "The histogram for Vehicle_Age is: \n",
            "\n"
          ]
        },
        {
          "output_type": "display_data",
          "data": {
            "image/png": "[encoded data removed]",
            "text/plain": [
              "<Figure size 720x360 with 1 Axes>"
            ]
          },
          "metadata": {
            "needs_background": "light"
          }
        },
        {
          "output_type": "stream",
          "name": "stdout",
          "text": [
            "The histogram for Vehicle_Damage is: \n",
            "\n"
          ]
        },
        {
          "output_type": "display_data",
          "data": {
            "image/png": "[encoded data removed]",
            "text/plain": [
              "<Figure size 720x360 with 1 Axes>"
            ]
          },
          "metadata": {
            "needs_background": "light"
          }
        },
        {
          "output_type": "stream",
          "name": "stdout",
          "text": [
            "The histogram for Annual_Premium is: \n",
            "\n"
          ]
        },
        {
          "output_type": "display_data",
          "data": {
            "image/png": "[encoded data removed]",
            "text/plain": [
              "<Figure size 720x360 with 1 Axes>"
            ]
          },
          "metadata": {
            "needs_background": "light"
          }
        },
        {
          "output_type": "stream",
          "name": "stdout",
          "text": [
            "The histogram for Policy_Sales_Channel is: \n",
            "\n"
          ]
        },
        {
          "output_type": "display_data",
          "data": {
            "image/png": "[encoded data removed]",
            "text/plain": [
              "<Figure size 720x360 with 1 Axes>"
            ]
          },
          "metadata": {
            "needs_background": "light"
          }
        },
        {
          "output_type": "stream",
          "name": "stdout",
          "text": [
            "The histogram for Vintage is: \n",
            "\n"
          ]
        },
        {
          "output_type": "display_data",
          "data": {
            "image/png": "[encoded data removed]",
            "text/plain": [
              "<Figure size 720x360 with 1 Axes>"
            ]
          },
          "metadata": {
            "needs_background": "light"
          }
        },
        {
          "output_type": "stream",
          "name": "stdout",
          "text": [
            "The histogram for Response is: \n",
            "\n"
          ]
        },
        {
          "output_type": "display_data",
          "data": {
            "image/png": "[encoded data removed]",
            "text/plain": [
              "<Figure size 720x360 with 1 Axes>"
            ]
          },
          "metadata": {
            "needs_background": "light"
          }
        }
      ]
    },
    {
      "cell_type": "markdown",
      "metadata": {
        "id": "TFv8BEuRbz2w"
      },
      "source": [
        "The main takeaway from the above histograms is the histogram of Response being highly partial, with the majority of our dataset having 0 as their response. We deal with this fact later on while building our model. As expected most of our customers have a drivers license, and other variables have their distribution as shown above."
      ]
    },
    {
      "cell_type": "code",
      "metadata": {
        "colab": {
          "base_uri": "https://localhost:8080/",
          "height": 526
        },
        "id": "yXTAVE0Zu0wu",
        "outputId": "66dd910c-65f6-4e1b-d68e-fbf234963b68"
      },
      "source": [
        "#Plotting a heatmap to see the correlation between the various continuous variables\n",
        "figure(num=None, figsize=(8, 6), dpi=80, facecolor='w', edgecolor='k')\n",
        "sns.heatmap(df.corr(), annot=True, fmt=\".2f\")\n",
        "plt.show()"
      ],
      "execution_count": null,
      "outputs": [
        {
          "output_type": "display_data",
          "data": {
            "image/png": "[encoded data removed]",
            "text/plain": [
              "<Figure size 640x480 with 2 Axes>"
            ]
          },
          "metadata": {}
        }
      ]
    },
    {
      "cell_type": "markdown",
      "metadata": {
        "id": "QvcF71dubczj"
      },
      "source": [
        "We observe from the above heatmap that the age of the vehile and policy sales channel are highly correlated positively. The Response of the customer is dependent on the fact that whether or not they have been previously ensured, with them being correlated by -0.34 (i.e. negatively)."
      ]
    },
    {
      "cell_type": "code",
      "metadata": {
        "colab": {
          "base_uri": "https://localhost:8080/",
          "height": 1000
        },
        "id": "WJyEZElMu-Db",
        "outputId": "17f0e6ac-e16a-4075-9e73-e2cdac142daf"
      },
      "source": [
        "#Plotting the QQ Plots of the continuous numerical variables\n",
        "import statsmodels.api as sm\n",
        "import warnings\n",
        "warnings.filterwarnings('ignore')\n",
        "continuousvariables=['Age','Region_Code','Annual_Premium','Vintage']\n",
        "for variable in continuousvariables:\n",
        " print('The qq plot for '+ variable + ' is: ')\n",
        " fig = sm.qqplot(df[variable],line='s')\n",
        " plt.show();\n",
        " print()"
      ],
      "execution_count": null,
      "outputs": [
        {
          "output_type": "stream",
          "name": "stdout",
          "text": [
            "The qq plot for Age is: \n"
          ]
        },
        {
          "output_type": "display_data",
          "data": {
            "image/png": "[encoded data removed]",
            "text/plain": [
              "<Figure size 720x360 with 1 Axes>"
            ]
          },
          "metadata": {
            "needs_background": "light"
          }
        },
        {
          "output_type": "stream",
          "name": "stdout",
          "text": [
            "\n",
            "The qq plot for Region_Code is: \n"
          ]
        },
        {
          "output_type": "display_data",
          "data": {
            "image/png": "[encoded data removed]",
            "text/plain": [
              "<Figure size 720x360 with 1 Axes>"
            ]
          },
          "metadata": {
            "needs_background": "light"
          }
        },
        {
          "output_type": "stream",
          "name": "stdout",
          "text": [
            "\n",
            "The qq plot for Annual_Premium is: \n"
          ]
        },
        {
          "output_type": "display_data",
          "data": {
            "image/png": "[encoded data removed]",
            "text/plain": [
              "<Figure size 720x360 with 1 Axes>"
            ]
          },
          "metadata": {
            "needs_background": "light"
          }
        },
        {
          "output_type": "stream",
          "name": "stdout",
          "text": [
            "\n",
            "The qq plot for Vintage is: \n"
          ]
        },
        {
          "output_type": "display_data",
          "data": {
            "image/png": "[encoded data removed]",
            "text/plain": [
              "<Figure size 720x360 with 1 Axes>"
            ]
          },
          "metadata": {
            "needs_background": "light"
          }
        },
        {
          "output_type": "stream",
          "name": "stdout",
          "text": [
            "\n"
          ]
        }
      ]
    },
    {
      "cell_type": "markdown",
      "metadata": {
        "id": "GFJTG4SebOyO"
      },
      "source": [
        "The continuous variables show normal or Gaussian distribution (red line) for the most part of their range, with deviations of left and right skews on their extremes, maybe due to outliers present."
      ]
    },
    {
      "cell_type": "code",
      "metadata": {
        "id": "FaKlSUf6v31t",
        "colab": {
          "base_uri": "https://localhost:8080/",
          "height": 386
        },
        "outputId": "b357fa63-5e16-47c4-f624-900400befc7d"
      },
      "source": [
        "#To visualize how the vehicle age affects the possibility of a customer responding positively to purchasing vehicle insurance\n",
        "print('Count of positive and negative responses to purchasing insurance vs. their vehicle age')\n",
        "fig, ax = plt.subplots()\n",
        "\n",
        "sns.catplot('Vehicle_Age', hue=\"Response\", data=df, kind=\"count\", \n",
        "            palette={1:\"green\", 0:\"orange\"}, ax=ax)\n",
        "\n",
        "\n",
        "plt.close(1)\n",
        "ax.set_xlabel(\"Vehicle_Age\")\n",
        "\n",
        "color_patches = [\n",
        "    Patch(facecolor=\"green\", label='Customer interested to purchase vehicle insurance'),\n",
        "    Patch(facecolor=\"orange\", label=\"Customer is not interested to purchase vehicle insurance\")\n",
        "]\n",
        "ax.legend(handles=color_patches)\n",
        "\n",
        "plt.show();"
      ],
      "execution_count": null,
      "outputs": [
        {
          "output_type": "stream",
          "name": "stdout",
          "text": [
            "Count of positive and negative responses to purchasing insurance vs. their vehicle age\n"
          ]
        },
        {
          "output_type": "display_data",
          "data": {
            "image/png": "[encoded data removed]",
            "text/plain": [
              "<Figure size 415.75x360 with 1 Axes>"
            ]
          },
          "metadata": {
            "needs_background": "light"
          }
        }
      ]
    },
    {
      "cell_type": "markdown",
      "metadata": {
        "id": "TDyHsWo4au2e"
      },
      "source": [
        "Out of the entire dataset, customers with >2 years of vehicle age were very few, and of the rest of the customers, the majority of interested customers had their vehicle age in 1-2 years. This may be due to reasons of experience in driving their vehicle, and the need for insurance making itself known only after sufficient time has passed while driving."
      ]
    },
    {
      "cell_type": "code",
      "metadata": {
        "colab": {
          "base_uri": "https://localhost:8080/",
          "height": 370
        },
        "id": "O6RdrWCJeCJW",
        "outputId": "82269b75-95c8-4731-de68-242521149563"
      },
      "source": [
        "#To see how age affects the possibility of a stroke occuring\n",
        "fig, ax = plt.subplots()\n",
        "\n",
        "sns.boxplot(x=\"Age\", y=\"Response\", data=df, orient=\"h\", palette={1:\"green\", 0:\"orange\"}, ax=ax)\n",
        "\n",
        "ax.get_yaxis().set_visible(False)\n",
        "\n",
        "fig.suptitle(\"Age vs. Customer interest in purchasing vehicle insurance\")\n",
        "color_patches = [\n",
        "    Patch(facecolor=\"green\", label=\"Customer interested to purchase vehicle insurance\"),\n",
        "    Patch(facecolor=\"orange\", label=\"Customer is not interested to purchase vehicle insurance\")\n",
        "]\n",
        "ax.legend(handles=color_patches);"
      ],
      "execution_count": null,
      "outputs": [
        {
          "output_type": "display_data",
          "data": {
            "image/png": "[encoded data removed]",
            "text/plain": [
              "<Figure size 720x360 with 1 Axes>"
            ]
          },
          "metadata": {
            "needs_background": "light"
          }
        }
      ]
    },
    {
      "cell_type": "markdown",
      "metadata": {
        "id": "K3txOZHbadGA"
      },
      "source": [
        "Elder people were more inclined towards purchasing vehicle insurance, which may be attributed to experience, and more interest in protecting their assets due to reasons of family and financial causes."
      ]
    },
    {
      "cell_type": "markdown",
      "metadata": {
        "id": "yYeEz_9SfM9r"
      },
      "source": [
        "##Data Pre-processing:"
      ]
    },
    {
      "cell_type": "code",
      "metadata": {
        "id": "N5HUiXnWerlQ"
      },
      "source": [
        "df=df.drop(columns=['id']) #dropping features which have no role to play in predicting the target variable"
      ],
      "execution_count": null,
      "outputs": []
    },
    {
      "cell_type": "code",
      "metadata": {
        "colab": {
          "base_uri": "https://localhost:8080/",
          "height": 456
        },
        "id": "jPR2wd79gS3-",
        "outputId": "71e89f5b-535d-41ad-adfa-a3de9e2f4dc6"
      },
      "source": [
        "#One-hot encoding categorical variables\n",
        "categorical_cols = ['Gender','Driving_License','Vehicle_Age','Previously_Insured','Vehicle_Damage']\n",
        "df = pd.get_dummies(df, columns = categorical_cols)\n",
        "\n",
        "display(df)"
      ],
      "execution_count": null,
      "outputs": [
        {
          "output_type": "display_data",
          "data": {
            "text/html": [
              "<div>\n",
              "<style scoped>\n",
              "    .dataframe tbody tr th:only-of-type {\n",
              "        vertical-align: middle;\n",
              "    }\n",
              "\n",
              "    .dataframe tbody tr th {\n",
              "        vertical-align: top;\n",
              "    }\n",
              "\n",
              "    .dataframe thead th {\n",
              "        text-align: right;\n",
              "    }\n",
              "</style>\n",
              "<table border=\"1\" class=\"dataframe\">\n",
              "  <thead>\n",
              "    <tr style=\"text-align: right;\">\n",
              "      <th></th>\n",
              "      <th>Age</th>\n",
              "      <th>Region_Code</th>\n",
              "      <th>Annual_Premium</th>\n",
              "      <th>Policy_Sales_Channel</th>\n",
              "      <th>Vintage</th>\n",
              "      <th>Response</th>\n",
              "      <th>Gender_Female</th>\n",
              "      <th>Gender_Male</th>\n",
              "      <th>Driving_License_0</th>\n",
              "      <th>Driving_License_1</th>\n",
              "      <th>Vehicle_Age_1-2 Year</th>\n",
              "      <th>Vehicle_Age_&lt; 1 Year</th>\n",
              "      <th>Vehicle_Age_&gt; 2 Years</th>\n",
              "      <th>Previously_Insured_0</th>\n",
              "      <th>Previously_Insured_1</th>\n",
              "      <th>Vehicle_Damage_No</th>\n",
              "      <th>Vehicle_Damage_Yes</th>\n",
              "    </tr>\n",
              "  </thead>\n",
              "  <tbody>\n",
              "    <tr>\n",
              "      <th>0</th>\n",
              "      <td>44</td>\n",
              "      <td>28.0</td>\n",
              "      <td>40454.0</td>\n",
              "      <td>26.0</td>\n",
              "      <td>217</td>\n",
              "      <td>1</td>\n",
              "      <td>0</td>\n",
              "      <td>1</td>\n",
              "      <td>0</td>\n",
              "      <td>1</td>\n",
              "      <td>0</td>\n",
              "      <td>0</td>\n",
              "      <td>1</td>\n",
              "      <td>1</td>\n",
              "      <td>0</td>\n",
              "      <td>0</td>\n",
              "      <td>1</td>\n",
              "    </tr>\n",
              "    <tr>\n",
              "      <th>1</th>\n",
              "      <td>76</td>\n",
              "      <td>3.0</td>\n",
              "      <td>33536.0</td>\n",
              "      <td>26.0</td>\n",
              "      <td>183</td>\n",
              "      <td>0</td>\n",
              "      <td>0</td>\n",
              "      <td>1</td>\n",
              "      <td>0</td>\n",
              "      <td>1</td>\n",
              "      <td>1</td>\n",
              "      <td>0</td>\n",
              "      <td>0</td>\n",
              "      <td>1</td>\n",
              "      <td>0</td>\n",
              "      <td>1</td>\n",
              "      <td>0</td>\n",
              "    </tr>\n",
              "    <tr>\n",
              "      <th>2</th>\n",
              "      <td>47</td>\n",
              "      <td>28.0</td>\n",
              "      <td>38294.0</td>\n",
              "      <td>26.0</td>\n",
              "      <td>27</td>\n",
              "      <td>1</td>\n",
              "      <td>0</td>\n",
              "      <td>1</td>\n",
              "      <td>0</td>\n",
              "      <td>1</td>\n",
              "      <td>0</td>\n",
              "      <td>0</td>\n",
              "      <td>1</td>\n",
              "      <td>1</td>\n",
              "      <td>0</td>\n",
              "      <td>0</td>\n",
              "      <td>1</td>\n",
              "    </tr>\n",
              "    <tr>\n",
              "      <th>3</th>\n",
              "      <td>21</td>\n",
              "      <td>11.0</td>\n",
              "      <td>28619.0</td>\n",
              "      <td>152.0</td>\n",
              "      <td>203</td>\n",
              "      <td>0</td>\n",
              "      <td>0</td>\n",
              "      <td>1</td>\n",
              "      <td>0</td>\n",
              "      <td>1</td>\n",
              "      <td>0</td>\n",
              "      <td>1</td>\n",
              "      <td>0</td>\n",
              "      <td>0</td>\n",
              "      <td>1</td>\n",
              "      <td>1</td>\n",
              "      <td>0</td>\n",
              "    </tr>\n",
              "    <tr>\n",
              "      <th>4</th>\n",
              "      <td>29</td>\n",
              "      <td>41.0</td>\n",
              "      <td>27496.0</td>\n",
              "      <td>152.0</td>\n",
              "      <td>39</td>\n",
              "      <td>0</td>\n",
              "      <td>1</td>\n",
              "      <td>0</td>\n",
              "      <td>0</td>\n",
              "      <td>1</td>\n",
              "      <td>0</td>\n",
              "      <td>1</td>\n",
              "      <td>0</td>\n",
              "      <td>0</td>\n",
              "      <td>1</td>\n",
              "      <td>1</td>\n",
              "      <td>0</td>\n",
              "    </tr>\n",
              "    <tr>\n",
              "      <th>...</th>\n",
              "      <td>...</td>\n",
              "      <td>...</td>\n",
              "      <td>...</td>\n",
              "      <td>...</td>\n",
              "      <td>...</td>\n",
              "      <td>...</td>\n",
              "      <td>...</td>\n",
              "      <td>...</td>\n",
              "      <td>...</td>\n",
              "      <td>...</td>\n",
              "      <td>...</td>\n",
              "      <td>...</td>\n",
              "      <td>...</td>\n",
              "      <td>...</td>\n",
              "      <td>...</td>\n",
              "      <td>...</td>\n",
              "      <td>...</td>\n",
              "    </tr>\n",
              "    <tr>\n",
              "      <th>381104</th>\n",
              "      <td>74</td>\n",
              "      <td>26.0</td>\n",
              "      <td>30170.0</td>\n",
              "      <td>26.0</td>\n",
              "      <td>88</td>\n",
              "      <td>0</td>\n",
              "      <td>0</td>\n",
              "      <td>1</td>\n",
              "      <td>0</td>\n",
              "      <td>1</td>\n",
              "      <td>1</td>\n",
              "      <td>0</td>\n",
              "      <td>0</td>\n",
              "      <td>0</td>\n",
              "      <td>1</td>\n",
              "      <td>1</td>\n",
              "      <td>0</td>\n",
              "    </tr>\n",
              "    <tr>\n",
              "      <th>381105</th>\n",
              "      <td>30</td>\n",
              "      <td>37.0</td>\n",
              "      <td>40016.0</td>\n",
              "      <td>152.0</td>\n",
              "      <td>131</td>\n",
              "      <td>0</td>\n",
              "      <td>0</td>\n",
              "      <td>1</td>\n",
              "      <td>0</td>\n",
              "      <td>1</td>\n",
              "      <td>0</td>\n",
              "      <td>1</td>\n",
              "      <td>0</td>\n",
              "      <td>0</td>\n",
              "      <td>1</td>\n",
              "      <td>1</td>\n",
              "      <td>0</td>\n",
              "    </tr>\n",
              "    <tr>\n",
              "      <th>381106</th>\n",
              "      <td>21</td>\n",
              "      <td>30.0</td>\n",
              "      <td>35118.0</td>\n",
              "      <td>160.0</td>\n",
              "      <td>161</td>\n",
              "      <td>0</td>\n",
              "      <td>0</td>\n",
              "      <td>1</td>\n",
              "      <td>0</td>\n",
              "      <td>1</td>\n",
              "      <td>0</td>\n",
              "      <td>1</td>\n",
              "      <td>0</td>\n",
              "      <td>0</td>\n",
              "      <td>1</td>\n",
              "      <td>1</td>\n",
              "      <td>0</td>\n",
              "    </tr>\n",
              "    <tr>\n",
              "      <th>381107</th>\n",
              "      <td>68</td>\n",
              "      <td>14.0</td>\n",
              "      <td>44617.0</td>\n",
              "      <td>124.0</td>\n",
              "      <td>74</td>\n",
              "      <td>0</td>\n",
              "      <td>1</td>\n",
              "      <td>0</td>\n",
              "      <td>0</td>\n",
              "      <td>1</td>\n",
              "      <td>0</td>\n",
              "      <td>0</td>\n",
              "      <td>1</td>\n",
              "      <td>1</td>\n",
              "      <td>0</td>\n",
              "      <td>0</td>\n",
              "      <td>1</td>\n",
              "    </tr>\n",
              "    <tr>\n",
              "      <th>381108</th>\n",
              "      <td>46</td>\n",
              "      <td>29.0</td>\n",
              "      <td>41777.0</td>\n",
              "      <td>26.0</td>\n",
              "      <td>237</td>\n",
              "      <td>0</td>\n",
              "      <td>0</td>\n",
              "      <td>1</td>\n",
              "      <td>0</td>\n",
              "      <td>1</td>\n",
              "      <td>1</td>\n",
              "      <td>0</td>\n",
              "      <td>0</td>\n",
              "      <td>1</td>\n",
              "      <td>0</td>\n",
              "      <td>1</td>\n",
              "      <td>0</td>\n",
              "    </tr>\n",
              "  </tbody>\n",
              "</table>\n",
              "<p>381109 rows × 17 columns</p>\n",
              "</div>"
            ],
            "text/plain": [
              "        Age  Region_Code  ...  Vehicle_Damage_No  Vehicle_Damage_Yes\n",
              "0        44         28.0  ...                  0                   1\n",
              "1        76          3.0  ...                  1                   0\n",
              "2        47         28.0  ...                  0                   1\n",
              "3        21         11.0  ...                  1                   0\n",
              "4        29         41.0  ...                  1                   0\n",
              "...     ...          ...  ...                ...                 ...\n",
              "381104   74         26.0  ...                  1                   0\n",
              "381105   30         37.0  ...                  1                   0\n",
              "381106   21         30.0  ...                  1                   0\n",
              "381107   68         14.0  ...                  0                   1\n",
              "381108   46         29.0  ...                  1                   0\n",
              "\n",
              "[381109 rows x 17 columns]"
            ]
          },
          "metadata": {}
        }
      ]
    },
    {
      "cell_type": "code",
      "metadata": {
        "colab": {
          "base_uri": "https://localhost:8080/",
          "height": 456
        },
        "id": "Zu0ZUSDwhGtu",
        "outputId": "0ddc6795-1792-46f7-fb3d-5dc9b95e8fab"
      },
      "source": [
        "#Scaling continuous variables\n",
        "continuousvariables=['Age', 'Region_Code', 'Annual_Premium','Vintage','Policy_Sales_Channel']\n",
        "for col in continuousvariables:\n",
        "  df[col]=(df[col]-df[col].mean())/df[col].std()\n",
        "display(df)"
      ],
      "execution_count": null,
      "outputs": [
        {
          "output_type": "display_data",
          "data": {
            "text/html": [
              "<div>\n",
              "<style scoped>\n",
              "    .dataframe tbody tr th:only-of-type {\n",
              "        vertical-align: middle;\n",
              "    }\n",
              "\n",
              "    .dataframe tbody tr th {\n",
              "        vertical-align: top;\n",
              "    }\n",
              "\n",
              "    .dataframe thead th {\n",
              "        text-align: right;\n",
              "    }\n",
              "</style>\n",
              "<table border=\"1\" class=\"dataframe\">\n",
              "  <thead>\n",
              "    <tr style=\"text-align: right;\">\n",
              "      <th></th>\n",
              "      <th>Age</th>\n",
              "      <th>Region_Code</th>\n",
              "      <th>Annual_Premium</th>\n",
              "      <th>Policy_Sales_Channel</th>\n",
              "      <th>Vintage</th>\n",
              "      <th>Response</th>\n",
              "      <th>Gender_Female</th>\n",
              "      <th>Gender_Male</th>\n",
              "      <th>Driving_License_0</th>\n",
              "      <th>Driving_License_1</th>\n",
              "      <th>Vehicle_Age_1-2 Year</th>\n",
              "      <th>Vehicle_Age_&lt; 1 Year</th>\n",
              "      <th>Vehicle_Age_&gt; 2 Years</th>\n",
              "      <th>Previously_Insured_0</th>\n",
              "      <th>Previously_Insured_1</th>\n",
              "      <th>Vehicle_Damage_No</th>\n",
              "      <th>Vehicle_Damage_Yes</th>\n",
              "    </tr>\n",
              "  </thead>\n",
              "  <tbody>\n",
              "    <tr>\n",
              "      <th>0</th>\n",
              "      <td>0.333777</td>\n",
              "      <td>0.121784</td>\n",
              "      <td>0.574538</td>\n",
              "      <td>-1.587232</td>\n",
              "      <td>0.748794</td>\n",
              "      <td>1</td>\n",
              "      <td>0</td>\n",
              "      <td>1</td>\n",
              "      <td>0</td>\n",
              "      <td>1</td>\n",
              "      <td>0</td>\n",
              "      <td>0</td>\n",
              "      <td>1</td>\n",
              "      <td>1</td>\n",
              "      <td>0</td>\n",
              "      <td>0</td>\n",
              "      <td>1</td>\n",
              "    </tr>\n",
              "    <tr>\n",
              "      <th>1</th>\n",
              "      <td>2.396748</td>\n",
              "      <td>-1.767876</td>\n",
              "      <td>0.172636</td>\n",
              "      <td>-1.587232</td>\n",
              "      <td>0.342442</td>\n",
              "      <td>0</td>\n",
              "      <td>0</td>\n",
              "      <td>1</td>\n",
              "      <td>0</td>\n",
              "      <td>1</td>\n",
              "      <td>1</td>\n",
              "      <td>0</td>\n",
              "      <td>0</td>\n",
              "      <td>1</td>\n",
              "      <td>0</td>\n",
              "      <td>1</td>\n",
              "      <td>0</td>\n",
              "    </tr>\n",
              "    <tr>\n",
              "      <th>2</th>\n",
              "      <td>0.527180</td>\n",
              "      <td>0.121784</td>\n",
              "      <td>0.449053</td>\n",
              "      <td>-1.587232</td>\n",
              "      <td>-1.521996</td>\n",
              "      <td>1</td>\n",
              "      <td>0</td>\n",
              "      <td>1</td>\n",
              "      <td>0</td>\n",
              "      <td>1</td>\n",
              "      <td>0</td>\n",
              "      <td>0</td>\n",
              "      <td>1</td>\n",
              "      <td>1</td>\n",
              "      <td>0</td>\n",
              "      <td>0</td>\n",
              "      <td>1</td>\n",
              "    </tr>\n",
              "    <tr>\n",
              "      <th>3</th>\n",
              "      <td>-1.148983</td>\n",
              "      <td>-1.163185</td>\n",
              "      <td>-0.113018</td>\n",
              "      <td>0.737320</td>\n",
              "      <td>0.581473</td>\n",
              "      <td>0</td>\n",
              "      <td>0</td>\n",
              "      <td>1</td>\n",
              "      <td>0</td>\n",
              "      <td>1</td>\n",
              "      <td>0</td>\n",
              "      <td>1</td>\n",
              "      <td>0</td>\n",
              "      <td>0</td>\n",
              "      <td>1</td>\n",
              "      <td>1</td>\n",
              "      <td>0</td>\n",
              "    </tr>\n",
              "    <tr>\n",
              "      <th>4</th>\n",
              "      <td>-0.633241</td>\n",
              "      <td>1.104408</td>\n",
              "      <td>-0.178258</td>\n",
              "      <td>0.737320</td>\n",
              "      <td>-1.378578</td>\n",
              "      <td>0</td>\n",
              "      <td>1</td>\n",
              "      <td>0</td>\n",
              "      <td>0</td>\n",
              "      <td>1</td>\n",
              "      <td>0</td>\n",
              "      <td>1</td>\n",
              "      <td>0</td>\n",
              "      <td>0</td>\n",
              "      <td>1</td>\n",
              "      <td>1</td>\n",
              "      <td>0</td>\n",
              "    </tr>\n",
              "    <tr>\n",
              "      <th>...</th>\n",
              "      <td>...</td>\n",
              "      <td>...</td>\n",
              "      <td>...</td>\n",
              "      <td>...</td>\n",
              "      <td>...</td>\n",
              "      <td>...</td>\n",
              "      <td>...</td>\n",
              "      <td>...</td>\n",
              "      <td>...</td>\n",
              "      <td>...</td>\n",
              "      <td>...</td>\n",
              "      <td>...</td>\n",
              "      <td>...</td>\n",
              "      <td>...</td>\n",
              "      <td>...</td>\n",
              "      <td>...</td>\n",
              "      <td>...</td>\n",
              "    </tr>\n",
              "    <tr>\n",
              "      <th>381104</th>\n",
              "      <td>2.267812</td>\n",
              "      <td>-0.029389</td>\n",
              "      <td>-0.022912</td>\n",
              "      <td>-1.587232</td>\n",
              "      <td>-0.792953</td>\n",
              "      <td>0</td>\n",
              "      <td>0</td>\n",
              "      <td>1</td>\n",
              "      <td>0</td>\n",
              "      <td>1</td>\n",
              "      <td>1</td>\n",
              "      <td>0</td>\n",
              "      <td>0</td>\n",
              "      <td>0</td>\n",
              "      <td>1</td>\n",
              "      <td>1</td>\n",
              "      <td>0</td>\n",
              "    </tr>\n",
              "    <tr>\n",
              "      <th>381105</th>\n",
              "      <td>-0.568773</td>\n",
              "      <td>0.802062</td>\n",
              "      <td>0.549092</td>\n",
              "      <td>0.737320</td>\n",
              "      <td>-0.279037</td>\n",
              "      <td>0</td>\n",
              "      <td>0</td>\n",
              "      <td>1</td>\n",
              "      <td>0</td>\n",
              "      <td>1</td>\n",
              "      <td>0</td>\n",
              "      <td>1</td>\n",
              "      <td>0</td>\n",
              "      <td>0</td>\n",
              "      <td>1</td>\n",
              "      <td>1</td>\n",
              "      <td>0</td>\n",
              "    </tr>\n",
              "    <tr>\n",
              "      <th>381106</th>\n",
              "      <td>-1.148983</td>\n",
              "      <td>0.272957</td>\n",
              "      <td>0.264542</td>\n",
              "      <td>0.884911</td>\n",
              "      <td>0.079509</td>\n",
              "      <td>0</td>\n",
              "      <td>0</td>\n",
              "      <td>1</td>\n",
              "      <td>0</td>\n",
              "      <td>1</td>\n",
              "      <td>0</td>\n",
              "      <td>1</td>\n",
              "      <td>0</td>\n",
              "      <td>0</td>\n",
              "      <td>1</td>\n",
              "      <td>1</td>\n",
              "      <td>0</td>\n",
              "    </tr>\n",
              "    <tr>\n",
              "      <th>381107</th>\n",
              "      <td>1.881005</td>\n",
              "      <td>-0.936426</td>\n",
              "      <td>0.816388</td>\n",
              "      <td>0.220753</td>\n",
              "      <td>-0.960274</td>\n",
              "      <td>0</td>\n",
              "      <td>1</td>\n",
              "      <td>0</td>\n",
              "      <td>0</td>\n",
              "      <td>1</td>\n",
              "      <td>0</td>\n",
              "      <td>0</td>\n",
              "      <td>1</td>\n",
              "      <td>1</td>\n",
              "      <td>0</td>\n",
              "      <td>0</td>\n",
              "      <td>1</td>\n",
              "    </tr>\n",
              "    <tr>\n",
              "      <th>381108</th>\n",
              "      <td>0.462713</td>\n",
              "      <td>0.197371</td>\n",
              "      <td>0.651398</td>\n",
              "      <td>-1.587232</td>\n",
              "      <td>0.987825</td>\n",
              "      <td>0</td>\n",
              "      <td>0</td>\n",
              "      <td>1</td>\n",
              "      <td>0</td>\n",
              "      <td>1</td>\n",
              "      <td>1</td>\n",
              "      <td>0</td>\n",
              "      <td>0</td>\n",
              "      <td>1</td>\n",
              "      <td>0</td>\n",
              "      <td>1</td>\n",
              "      <td>0</td>\n",
              "    </tr>\n",
              "  </tbody>\n",
              "</table>\n",
              "<p>381109 rows × 17 columns</p>\n",
              "</div>"
            ],
            "text/plain": [
              "             Age  Region_Code  ...  Vehicle_Damage_No  Vehicle_Damage_Yes\n",
              "0       0.333777     0.121784  ...                  0                   1\n",
              "1       2.396748    -1.767876  ...                  1                   0\n",
              "2       0.527180     0.121784  ...                  0                   1\n",
              "3      -1.148983    -1.163185  ...                  1                   0\n",
              "4      -0.633241     1.104408  ...                  1                   0\n",
              "...          ...          ...  ...                ...                 ...\n",
              "381104  2.267812    -0.029389  ...                  1                   0\n",
              "381105 -0.568773     0.802062  ...                  1                   0\n",
              "381106 -1.148983     0.272957  ...                  1                   0\n",
              "381107  1.881005    -0.936426  ...                  0                   1\n",
              "381108  0.462713     0.197371  ...                  1                   0\n",
              "\n",
              "[381109 rows x 17 columns]"
            ]
          },
          "metadata": {}
        }
      ]
    },
    {
      "cell_type": "code",
      "metadata": {
        "colab": {
          "base_uri": "https://localhost:8080/",
          "height": 456
        },
        "id": "BKNW1rvohvJl",
        "outputId": "dd5cdbc2-12db-4018-8d1e-213cc9d64f89"
      },
      "source": [
        "#shuffling the data to get rid of any underlying order that may exist\n",
        "df = df.sample(frac = 1) \n",
        "display(df)"
      ],
      "execution_count": null,
      "outputs": [
        {
          "output_type": "display_data",
          "data": {
            "text/html": [
              "<div>\n",
              "<style scoped>\n",
              "    .dataframe tbody tr th:only-of-type {\n",
              "        vertical-align: middle;\n",
              "    }\n",
              "\n",
              "    .dataframe tbody tr th {\n",
              "        vertical-align: top;\n",
              "    }\n",
              "\n",
              "    .dataframe thead th {\n",
              "        text-align: right;\n",
              "    }\n",
              "</style>\n",
              "<table border=\"1\" class=\"dataframe\">\n",
              "  <thead>\n",
              "    <tr style=\"text-align: right;\">\n",
              "      <th></th>\n",
              "      <th>Age</th>\n",
              "      <th>Region_Code</th>\n",
              "      <th>Annual_Premium</th>\n",
              "      <th>Policy_Sales_Channel</th>\n",
              "      <th>Vintage</th>\n",
              "      <th>Response</th>\n",
              "      <th>Gender_Female</th>\n",
              "      <th>Gender_Male</th>\n",
              "      <th>Driving_License_0</th>\n",
              "      <th>Driving_License_1</th>\n",
              "      <th>Vehicle_Age_1-2 Year</th>\n",
              "      <th>Vehicle_Age_&lt; 1 Year</th>\n",
              "      <th>Vehicle_Age_&gt; 2 Years</th>\n",
              "      <th>Previously_Insured_0</th>\n",
              "      <th>Previously_Insured_1</th>\n",
              "      <th>Vehicle_Damage_No</th>\n",
              "      <th>Vehicle_Damage_Yes</th>\n",
              "    </tr>\n",
              "  </thead>\n",
              "  <tbody>\n",
              "    <tr>\n",
              "      <th>332703</th>\n",
              "      <td>1.816537</td>\n",
              "      <td>0.121784</td>\n",
              "      <td>-0.242802</td>\n",
              "      <td>-1.587232</td>\n",
              "      <td>1.370274</td>\n",
              "      <td>0</td>\n",
              "      <td>0</td>\n",
              "      <td>1</td>\n",
              "      <td>0</td>\n",
              "      <td>1</td>\n",
              "      <td>1</td>\n",
              "      <td>0</td>\n",
              "      <td>0</td>\n",
              "      <td>0</td>\n",
              "      <td>1</td>\n",
              "      <td>1</td>\n",
              "      <td>0</td>\n",
              "    </tr>\n",
              "    <tr>\n",
              "      <th>149642</th>\n",
              "      <td>-0.697709</td>\n",
              "      <td>-1.389944</td>\n",
              "      <td>-0.512712</td>\n",
              "      <td>0.737320</td>\n",
              "      <td>0.856358</td>\n",
              "      <td>0</td>\n",
              "      <td>0</td>\n",
              "      <td>1</td>\n",
              "      <td>0</td>\n",
              "      <td>1</td>\n",
              "      <td>0</td>\n",
              "      <td>1</td>\n",
              "      <td>0</td>\n",
              "      <td>1</td>\n",
              "      <td>0</td>\n",
              "      <td>1</td>\n",
              "      <td>0</td>\n",
              "    </tr>\n",
              "    <tr>\n",
              "      <th>353351</th>\n",
              "      <td>-0.762176</td>\n",
              "      <td>0.726476</td>\n",
              "      <td>-0.266272</td>\n",
              "      <td>0.737320</td>\n",
              "      <td>-0.434407</td>\n",
              "      <td>0</td>\n",
              "      <td>1</td>\n",
              "      <td>0</td>\n",
              "      <td>0</td>\n",
              "      <td>1</td>\n",
              "      <td>0</td>\n",
              "      <td>1</td>\n",
              "      <td>0</td>\n",
              "      <td>1</td>\n",
              "      <td>0</td>\n",
              "      <td>0</td>\n",
              "      <td>1</td>\n",
              "    </tr>\n",
              "    <tr>\n",
              "      <th>76562</th>\n",
              "      <td>-1.020048</td>\n",
              "      <td>1.406754</td>\n",
              "      <td>0.015837</td>\n",
              "      <td>0.737320</td>\n",
              "      <td>-1.701269</td>\n",
              "      <td>0</td>\n",
              "      <td>1</td>\n",
              "      <td>0</td>\n",
              "      <td>0</td>\n",
              "      <td>1</td>\n",
              "      <td>0</td>\n",
              "      <td>1</td>\n",
              "      <td>0</td>\n",
              "      <td>0</td>\n",
              "      <td>1</td>\n",
              "      <td>1</td>\n",
              "      <td>0</td>\n",
              "    </tr>\n",
              "    <tr>\n",
              "      <th>38034</th>\n",
              "      <td>0.398245</td>\n",
              "      <td>0.726476</td>\n",
              "      <td>-0.044698</td>\n",
              "      <td>0.774218</td>\n",
              "      <td>-0.506116</td>\n",
              "      <td>0</td>\n",
              "      <td>0</td>\n",
              "      <td>1</td>\n",
              "      <td>0</td>\n",
              "      <td>1</td>\n",
              "      <td>1</td>\n",
              "      <td>0</td>\n",
              "      <td>0</td>\n",
              "      <td>0</td>\n",
              "      <td>1</td>\n",
              "      <td>1</td>\n",
              "      <td>0</td>\n",
              "    </tr>\n",
              "    <tr>\n",
              "      <th>...</th>\n",
              "      <td>...</td>\n",
              "      <td>...</td>\n",
              "      <td>...</td>\n",
              "      <td>...</td>\n",
              "      <td>...</td>\n",
              "      <td>...</td>\n",
              "      <td>...</td>\n",
              "      <td>...</td>\n",
              "      <td>...</td>\n",
              "      <td>...</td>\n",
              "      <td>...</td>\n",
              "      <td>...</td>\n",
              "      <td>...</td>\n",
              "      <td>...</td>\n",
              "      <td>...</td>\n",
              "      <td>...</td>\n",
              "      <td>...</td>\n",
              "    </tr>\n",
              "    <tr>\n",
              "      <th>348983</th>\n",
              "      <td>-0.697709</td>\n",
              "      <td>-1.163185</td>\n",
              "      <td>0.560595</td>\n",
              "      <td>0.737320</td>\n",
              "      <td>-0.290989</td>\n",
              "      <td>0</td>\n",
              "      <td>0</td>\n",
              "      <td>1</td>\n",
              "      <td>0</td>\n",
              "      <td>1</td>\n",
              "      <td>0</td>\n",
              "      <td>1</td>\n",
              "      <td>0</td>\n",
              "      <td>1</td>\n",
              "      <td>0</td>\n",
              "      <td>0</td>\n",
              "      <td>1</td>\n",
              "    </tr>\n",
              "    <tr>\n",
              "      <th>283611</th>\n",
              "      <td>-0.955580</td>\n",
              "      <td>-1.163185</td>\n",
              "      <td>0.594639</td>\n",
              "      <td>0.737320</td>\n",
              "      <td>0.736843</td>\n",
              "      <td>0</td>\n",
              "      <td>1</td>\n",
              "      <td>0</td>\n",
              "      <td>0</td>\n",
              "      <td>1</td>\n",
              "      <td>0</td>\n",
              "      <td>1</td>\n",
              "      <td>0</td>\n",
              "      <td>0</td>\n",
              "      <td>1</td>\n",
              "      <td>1</td>\n",
              "      <td>0</td>\n",
              "    </tr>\n",
              "    <tr>\n",
              "      <th>345467</th>\n",
              "      <td>-1.020048</td>\n",
              "      <td>1.482340</td>\n",
              "      <td>-0.149095</td>\n",
              "      <td>0.737320</td>\n",
              "      <td>0.951970</td>\n",
              "      <td>0</td>\n",
              "      <td>0</td>\n",
              "      <td>1</td>\n",
              "      <td>0</td>\n",
              "      <td>1</td>\n",
              "      <td>0</td>\n",
              "      <td>1</td>\n",
              "      <td>0</td>\n",
              "      <td>0</td>\n",
              "      <td>1</td>\n",
              "      <td>1</td>\n",
              "      <td>0</td>\n",
              "    </tr>\n",
              "    <tr>\n",
              "      <th>374978</th>\n",
              "      <td>-1.148983</td>\n",
              "      <td>-1.767876</td>\n",
              "      <td>0.367022</td>\n",
              "      <td>0.884911</td>\n",
              "      <td>-0.302940</td>\n",
              "      <td>0</td>\n",
              "      <td>1</td>\n",
              "      <td>0</td>\n",
              "      <td>0</td>\n",
              "      <td>1</td>\n",
              "      <td>0</td>\n",
              "      <td>1</td>\n",
              "      <td>0</td>\n",
              "      <td>1</td>\n",
              "      <td>0</td>\n",
              "      <td>0</td>\n",
              "      <td>1</td>\n",
              "    </tr>\n",
              "    <tr>\n",
              "      <th>186658</th>\n",
              "      <td>-1.020048</td>\n",
              "      <td>-1.389944</td>\n",
              "      <td>1.400766</td>\n",
              "      <td>0.737320</td>\n",
              "      <td>0.617328</td>\n",
              "      <td>0</td>\n",
              "      <td>1</td>\n",
              "      <td>0</td>\n",
              "      <td>0</td>\n",
              "      <td>1</td>\n",
              "      <td>0</td>\n",
              "      <td>1</td>\n",
              "      <td>0</td>\n",
              "      <td>0</td>\n",
              "      <td>1</td>\n",
              "      <td>1</td>\n",
              "      <td>0</td>\n",
              "    </tr>\n",
              "  </tbody>\n",
              "</table>\n",
              "<p>381109 rows × 17 columns</p>\n",
              "</div>"
            ],
            "text/plain": [
              "             Age  Region_Code  ...  Vehicle_Damage_No  Vehicle_Damage_Yes\n",
              "332703  1.816537     0.121784  ...                  1                   0\n",
              "149642 -0.697709    -1.389944  ...                  1                   0\n",
              "353351 -0.762176     0.726476  ...                  0                   1\n",
              "76562  -1.020048     1.406754  ...                  1                   0\n",
              "38034   0.398245     0.726476  ...                  1                   0\n",
              "...          ...          ...  ...                ...                 ...\n",
              "348983 -0.697709    -1.163185  ...                  0                   1\n",
              "283611 -0.955580    -1.163185  ...                  1                   0\n",
              "345467 -1.020048     1.482340  ...                  1                   0\n",
              "374978 -1.148983    -1.767876  ...                  0                   1\n",
              "186658 -1.020048    -1.389944  ...                  1                   0\n",
              "\n",
              "[381109 rows x 17 columns]"
            ]
          },
          "metadata": {}
        }
      ]
    },
    {
      "cell_type": "code",
      "metadata": {
        "colab": {
          "base_uri": "https://localhost:8080/"
        },
        "id": "HpHS_bN8hvvB",
        "outputId": "2d69096a-a258-4ec2-aa27-86d24280346d"
      },
      "source": [
        "#Preparing the data for training the model\n",
        "X= df.drop(['Response'], axis=1)\n",
        "Y= df['Response']\n",
        "print(len(X)) #number of samples"
      ],
      "execution_count": null,
      "outputs": [
        {
          "output_type": "stream",
          "name": "stdout",
          "text": [
            "381109\n"
          ]
        }
      ]
    },
    {
      "cell_type": "markdown",
      "metadata": {
        "id": "I9qBzBCKUl8C"
      },
      "source": [
        "To split our dataset into training and testing sets, we do the following. Due to insufficient computational power, the entire dataset could not be considered while training our model, and hence a third counterpart named 'extra' has been defined to store the remaining records not used in training and testing."
      ]
    },
    {
      "cell_type": "code",
      "metadata": {
        "colab": {
          "base_uri": "https://localhost:8080/"
        },
        "id": "xlpmVsgob1Ea",
        "outputId": "467310ad-86e9-403c-e407-c608c8387ed0"
      },
      "source": [
        "#Splitting X and Y into training, validation and test sets in 70:15:15 ratio\n",
        "\n",
        "from sklearn.model_selection import train_test_split\n",
        "# Defines ratios, w.r.t. whole dataset.\n",
        "ratio_train = 0.15\n",
        "ratio_extra = 0.75\n",
        "ratio_test = 0.10\n",
        "\n",
        "# Produces test split.\n",
        "X_remaining, X_test, Y_remaining, Y_test = train_test_split(\n",
        "    X, Y, test_size=ratio_test)\n",
        "\n",
        "# Adjusts val ratio, w.r.t. remaining dataset.\n",
        "ratio_remaining = 1 - ratio_test\n",
        "ratio_extra_adjusted = ratio_extra / ratio_remaining\n",
        "\n",
        "# Produces train and val splits.\n",
        "X_train, X_extra, Y_train, Y_extra = train_test_split(\n",
        "    X_remaining, Y_remaining, test_size=ratio_extra_adjusted)\n",
        "\n",
        "print(X_train.shape)\n",
        "print(Y_train.shape)\n",
        "print(X_extra.shape)\n",
        "print(Y_extra.shape)\n",
        "print(X_test.shape)\n",
        "print(Y_test.shape)"
      ],
      "execution_count": null,
      "outputs": [
        {
          "output_type": "stream",
          "name": "stdout",
          "text": [
            "(57166, 16)\n",
            "(57166,)\n",
            "(285832, 16)\n",
            "(285832,)\n",
            "(38111, 16)\n",
            "(38111,)\n"
          ]
        }
      ]
    },
    {
      "cell_type": "code",
      "metadata": {
        "colab": {
          "base_uri": "https://localhost:8080/"
        },
        "id": "Z7pr7W4GnO6i",
        "outputId": "26edea12-4b9b-41f6-dee0-ee7f469563b8"
      },
      "source": [
        "from sklearn.utils import resample\n",
        "#combine them back for resampling\n",
        "train_data = pd.concat([X_train, Y_train], axis=1)\n",
        "# separate minority and majority classes\n",
        "negative = train_data[train_data.Response==0]\n",
        "positive = train_data[train_data.Response==1]\n",
        "# downsample majority\n",
        "neg_downsampled = resample(negative, replace=True, # sample with replacement\n",
        "n_samples=len(positive), # match number in minority class\n",
        "random_state=27) # reproducible results\n",
        "# combine minority and downsampled majority\n",
        "downsampled = pd.concat([positive, neg_downsampled])\n",
        "# check new class counts\n",
        "downsampled.Response.value_counts()\n"
      ],
      "execution_count": null,
      "outputs": [
        {
          "output_type": "execute_result",
          "data": {
            "text/plain": [
              "1    7103\n",
              "0    7103\n",
              "Name: Response, dtype: int64"
            ]
          },
          "metadata": {},
          "execution_count": 61
        }
      ]
    },
    {
      "cell_type": "markdown",
      "metadata": {
        "id": "kjFhH6DCckvd"
      },
      "source": [
        "Resampling has been done on our training dataset to deal with our highly unbalanced dataset to prevent overfitting (predicting all responses as 0). We use the undersampling method, wherein it involves removing samples from the majority class."
      ]
    },
    {
      "cell_type": "code",
      "metadata": {
        "colab": {
          "base_uri": "https://localhost:8080/"
        },
        "id": "-c13z5LXoVYi",
        "outputId": "c91946fb-8697-4171-9ee4-0ae3da4ba8fd"
      },
      "source": [
        "#Preparing the data for training the model using our resampled data \n",
        "X_train= downsampled.drop(['Response'], axis=1)\n",
        "Y_train= downsampled['Response']\n",
        "print(len(X_train)) #number of samples"
      ],
      "execution_count": null,
      "outputs": [
        {
          "output_type": "stream",
          "name": "stdout",
          "text": [
            "14206\n"
          ]
        }
      ]
    },
    {
      "cell_type": "markdown",
      "metadata": {
        "id": "bj_o_5T7lhxm"
      },
      "source": [
        "##Model Building and Hyperparameter tuning:"
      ]
    },
    {
      "cell_type": "markdown",
      "metadata": {
        "id": "EVHwQKorlnPI"
      },
      "source": [
        "Support Vector Machine has been selected as the model that would classify our samples into positive and negative responses towards the idea of purchasing vehicle insurance. "
      ]
    },
    {
      "cell_type": "code",
      "metadata": {
        "colab": {
          "base_uri": "https://localhost:8080/"
        },
        "id": "i5YvfkGAmBU9",
        "outputId": "46772674-316c-4507-aa3f-7847dd9d221e"
      },
      "source": [
        "# Fit this best model to training data\n",
        "from sklearn.svm import SVC\n",
        "classifier_svc = SVC(C=10, gamma='scale', kernel='poly')\n",
        "classifier_svc.fit(X_train, Y_train)"
      ],
      "execution_count": null,
      "outputs": [
        {
          "output_type": "execute_result",
          "data": {
            "text/plain": [
              "SVC(C=10, kernel='poly')"
            ]
          },
          "metadata": {},
          "execution_count": 73
        }
      ]
    },
    {
      "cell_type": "markdown",
      "metadata": {
        "id": "HNfAhllpeOyz"
      },
      "source": [
        "Due to computational constraints, hyperparameter tuning using GridSearchCV could not be utilized. However, various combinations of hyperaprameter values C(0.1/1/10) and kernel (rbf/poly) have been tried on our training dataset manually to look for the best hyperparameter combination."
      ]
    },
    {
      "cell_type": "code",
      "metadata": {
        "id": "PEXwUdY9mDhq"
      },
      "source": [
        "# Evaluate on test set \n",
        "Y_pred = classifier_svc.predict(X_test)"
      ],
      "execution_count": null,
      "outputs": []
    },
    {
      "cell_type": "markdown",
      "metadata": {
        "id": "kgAb96aamGCW"
      },
      "source": [
        "##Model performance:"
      ]
    },
    {
      "cell_type": "code",
      "metadata": {
        "colab": {
          "base_uri": "https://localhost:8080/",
          "height": 504
        },
        "id": "OR5Dq-xemEU0",
        "outputId": "da097779-d98d-4c98-982a-6e538b7c3d48"
      },
      "source": [
        "# Performance Statistics\n",
        "from sklearn.metrics import classification_report\n",
        "from sklearn.metrics import accuracy_score, f1_score, confusion_matrix,ConfusionMatrixDisplay\n",
        "print(classification_report(Y_test, Y_pred))\n",
        "cm = confusion_matrix(Y_test, Y_pred)\n",
        "disp = ConfusionMatrixDisplay(confusion_matrix=cm,display_labels=[0,1])\n",
        "disp.plot();\n",
        "\n",
        "from sklearn.metrics import mean_squared_error\n",
        "print(f\"Mean Square Error: {mean_squared_error(Y_test,Y_pred)}\")"
      ],
      "execution_count": null,
      "outputs": [
        {
          "output_type": "stream",
          "name": "stdout",
          "text": [
            "              precision    recall  f1-score   support\n",
            "\n",
            "           0       0.99      0.66      0.79     33495\n",
            "           1       0.28      0.93      0.42      4616\n",
            "\n",
            "    accuracy                           0.70     38111\n",
            "   macro avg       0.63      0.80      0.61     38111\n",
            "weighted avg       0.90      0.70      0.75     38111\n",
            "\n",
            "Mean Square Error: 0.30434782608695654\n"
          ]
        },
        {
          "output_type": "display_data",
          "data": {
            "image/png": "[encoded data removed]",
            "text/plain": [
              "<Figure size 720x360 with 2 Axes>"
            ]
          },
          "metadata": {
            "needs_background": "light"
          }
        }
      ]
    },
    {
      "cell_type": "markdown",
      "metadata": {
        "id": "SfyYnlPHtYip"
      },
      "source": [
        "An accuracy of 88% had been achieved if resampling was not performed, however the confusion matrix depicted all positive (1) responses to be falsely predicted as negative (0), thus resulting in overfitting of the model onto our dataset. From previous analysis, we observed that the dataset was largely skewed with majority of the responses as negative. Thus though our accuracy decreases, we now have a model that generalizes well to predict new customer responses towards the possibility of vehicl insurance purchase. "
      ]
    }
  ]
}